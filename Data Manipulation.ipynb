{
 "cells": [
  {
   "cell_type": "code",
   "execution_count": 27,
   "metadata": {},
   "outputs": [],
   "source": [
    "import pandas as pd\n",
    "import numpy as np\n",
    "import seaborn as sn\n",
    "from scipy import stats\n",
    "from datetime import datetime\n",
    "import matplotlib.pyplot as plt\n",
    "%matplotlib inline"
   ]
  },
  {
   "cell_type": "code",
   "execution_count": 28,
   "metadata": {},
   "outputs": [
    {
     "data": {
      "text/html": [
       "<div>\n",
       "<style scoped>\n",
       "    .dataframe tbody tr th:only-of-type {\n",
       "        vertical-align: middle;\n",
       "    }\n",
       "\n",
       "    .dataframe tbody tr th {\n",
       "        vertical-align: top;\n",
       "    }\n",
       "\n",
       "    .dataframe thead th {\n",
       "        text-align: right;\n",
       "    }\n",
       "</style>\n",
       "<table border=\"1\" class=\"dataframe\">\n",
       "  <thead>\n",
       "    <tr style=\"text-align: right;\">\n",
       "      <th></th>\n",
       "      <th>Unnamed: 0</th>\n",
       "      <th>Checks2</th>\n",
       "      <th>Covers2</th>\n",
       "      <th>Gross Revenue2</th>\n",
       "      <th>Profit Center</th>\n",
       "      <th>Day_Open</th>\n",
       "      <th>Month</th>\n",
       "      <th>Year</th>\n",
       "    </tr>\n",
       "  </thead>\n",
       "  <tbody>\n",
       "    <tr>\n",
       "      <th>0</th>\n",
       "      <td>0</td>\n",
       "      <td>2085</td>\n",
       "      <td>0</td>\n",
       "      <td>7455.62</td>\n",
       "      <td>Profit Center Annenberg Cart(305)</td>\n",
       "      <td>11</td>\n",
       "      <td>Jan</td>\n",
       "      <td>2016</td>\n",
       "    </tr>\n",
       "    <tr>\n",
       "      <th>1</th>\n",
       "      <td>1</td>\n",
       "      <td>14554</td>\n",
       "      <td>0</td>\n",
       "      <td>59371.08</td>\n",
       "      <td>Profit Center CC CBTL(281)</td>\n",
       "      <td>27</td>\n",
       "      <td>Jan</td>\n",
       "      <td>2016</td>\n",
       "    </tr>\n",
       "    <tr>\n",
       "      <th>2</th>\n",
       "      <td>2</td>\n",
       "      <td>11625</td>\n",
       "      <td>0</td>\n",
       "      <td>52161.07</td>\n",
       "      <td>Profit Center Coffee Bean &amp; Tea Leaf(275)</td>\n",
       "      <td>16</td>\n",
       "      <td>Jan</td>\n",
       "      <td>2016</td>\n",
       "    </tr>\n",
       "    <tr>\n",
       "      <th>3</th>\n",
       "      <td>3</td>\n",
       "      <td>8969</td>\n",
       "      <td>0</td>\n",
       "      <td>75420.01</td>\n",
       "      <td>Profit Center CPK(286)</td>\n",
       "      <td>22</td>\n",
       "      <td>Jan</td>\n",
       "      <td>2016</td>\n",
       "    </tr>\n",
       "    <tr>\n",
       "      <th>4</th>\n",
       "      <td>4</td>\n",
       "      <td>415</td>\n",
       "      <td>1181</td>\n",
       "      <td>23116.88</td>\n",
       "      <td>Profit Center Edmondson Faculty Center(296)</td>\n",
       "      <td>19</td>\n",
       "      <td>Jan</td>\n",
       "      <td>2016</td>\n",
       "    </tr>\n",
       "  </tbody>\n",
       "</table>\n",
       "</div>"
      ],
      "text/plain": [
       "   Unnamed: 0  Checks2  Covers2  Gross Revenue2  \\\n",
       "0           0     2085        0         7455.62   \n",
       "1           1    14554        0        59371.08   \n",
       "2           2    11625        0        52161.07   \n",
       "3           3     8969        0        75420.01   \n",
       "4           4      415     1181        23116.88   \n",
       "\n",
       "                                 Profit Center  Day_Open Month  Year  \n",
       "0            Profit Center Annenberg Cart(305)        11   Jan  2016  \n",
       "1                   Profit Center CC CBTL(281)        27   Jan  2016  \n",
       "2    Profit Center Coffee Bean & Tea Leaf(275)        16   Jan  2016  \n",
       "3                       Profit Center CPK(286)        22   Jan  2016  \n",
       "4  Profit Center Edmondson Faculty Center(296)        19   Jan  2016  "
      ]
     },
     "execution_count": 28,
     "metadata": {},
     "output_type": "execute_result"
    }
   ],
   "source": [
    "df = pd.read_csv('../MDAC2/total16and17.csv')\n",
    "df.head()"
   ]
  },
  {
   "cell_type": "markdown",
   "metadata": {},
   "source": [
    "## CustomerCounts\n",
    "If covers2 is greater than checks2, then CustomerCounts = Covers2;\n",
    "Else CustomerCounts = Checks2\n",
    "\n",
    "Here, I use np.where to replace for loops with if-else statement."
   ]
  },
  {
   "cell_type": "code",
   "execution_count": 29,
   "metadata": {},
   "outputs": [
    {
     "data": {
      "text/html": [
       "<div>\n",
       "<style scoped>\n",
       "    .dataframe tbody tr th:only-of-type {\n",
       "        vertical-align: middle;\n",
       "    }\n",
       "\n",
       "    .dataframe tbody tr th {\n",
       "        vertical-align: top;\n",
       "    }\n",
       "\n",
       "    .dataframe thead th {\n",
       "        text-align: right;\n",
       "    }\n",
       "</style>\n",
       "<table border=\"1\" class=\"dataframe\">\n",
       "  <thead>\n",
       "    <tr style=\"text-align: right;\">\n",
       "      <th></th>\n",
       "      <th>Unnamed: 0</th>\n",
       "      <th>Checks2</th>\n",
       "      <th>Covers2</th>\n",
       "      <th>Gross Revenue2</th>\n",
       "      <th>Profit Center</th>\n",
       "      <th>Day_Open</th>\n",
       "      <th>Month</th>\n",
       "      <th>Year</th>\n",
       "      <th>CustomerCounts</th>\n",
       "    </tr>\n",
       "  </thead>\n",
       "  <tbody>\n",
       "    <tr>\n",
       "      <th>0</th>\n",
       "      <td>0</td>\n",
       "      <td>2085</td>\n",
       "      <td>0</td>\n",
       "      <td>7455.62</td>\n",
       "      <td>Profit Center Annenberg Cart(305)</td>\n",
       "      <td>11</td>\n",
       "      <td>Jan</td>\n",
       "      <td>2016</td>\n",
       "      <td>2085</td>\n",
       "    </tr>\n",
       "    <tr>\n",
       "      <th>1</th>\n",
       "      <td>1</td>\n",
       "      <td>14554</td>\n",
       "      <td>0</td>\n",
       "      <td>59371.08</td>\n",
       "      <td>Profit Center CC CBTL(281)</td>\n",
       "      <td>27</td>\n",
       "      <td>Jan</td>\n",
       "      <td>2016</td>\n",
       "      <td>14554</td>\n",
       "    </tr>\n",
       "    <tr>\n",
       "      <th>2</th>\n",
       "      <td>2</td>\n",
       "      <td>11625</td>\n",
       "      <td>0</td>\n",
       "      <td>52161.07</td>\n",
       "      <td>Profit Center Coffee Bean &amp; Tea Leaf(275)</td>\n",
       "      <td>16</td>\n",
       "      <td>Jan</td>\n",
       "      <td>2016</td>\n",
       "      <td>11625</td>\n",
       "    </tr>\n",
       "    <tr>\n",
       "      <th>3</th>\n",
       "      <td>3</td>\n",
       "      <td>8969</td>\n",
       "      <td>0</td>\n",
       "      <td>75420.01</td>\n",
       "      <td>Profit Center CPK(286)</td>\n",
       "      <td>22</td>\n",
       "      <td>Jan</td>\n",
       "      <td>2016</td>\n",
       "      <td>8969</td>\n",
       "    </tr>\n",
       "    <tr>\n",
       "      <th>4</th>\n",
       "      <td>4</td>\n",
       "      <td>415</td>\n",
       "      <td>1181</td>\n",
       "      <td>23116.88</td>\n",
       "      <td>Profit Center Edmondson Faculty Center(296)</td>\n",
       "      <td>19</td>\n",
       "      <td>Jan</td>\n",
       "      <td>2016</td>\n",
       "      <td>1181</td>\n",
       "    </tr>\n",
       "  </tbody>\n",
       "</table>\n",
       "</div>"
      ],
      "text/plain": [
       "   Unnamed: 0  Checks2  Covers2  Gross Revenue2  \\\n",
       "0           0     2085        0         7455.62   \n",
       "1           1    14554        0        59371.08   \n",
       "2           2    11625        0        52161.07   \n",
       "3           3     8969        0        75420.01   \n",
       "4           4      415     1181        23116.88   \n",
       "\n",
       "                                 Profit Center  Day_Open Month  Year  \\\n",
       "0            Profit Center Annenberg Cart(305)        11   Jan  2016   \n",
       "1                   Profit Center CC CBTL(281)        27   Jan  2016   \n",
       "2    Profit Center Coffee Bean & Tea Leaf(275)        16   Jan  2016   \n",
       "3                       Profit Center CPK(286)        22   Jan  2016   \n",
       "4  Profit Center Edmondson Faculty Center(296)        19   Jan  2016   \n",
       "\n",
       "   CustomerCounts  \n",
       "0            2085  \n",
       "1           14554  \n",
       "2           11625  \n",
       "3            8969  \n",
       "4            1181  "
      ]
     },
     "execution_count": 29,
     "metadata": {},
     "output_type": "execute_result"
    }
   ],
   "source": [
    "df['CustomerCounts'] = np.where((df.Covers2 > df.Checks2), df.Covers2, df.Checks2)\n",
    "df.head()"
   ]
  },
  {
   "cell_type": "markdown",
   "metadata": {},
   "source": [
    "## Rename Column Name - Revenue"
   ]
  },
  {
   "cell_type": "code",
   "execution_count": 30,
   "metadata": {},
   "outputs": [],
   "source": [
    "df.rename(columns = {'Gross Revenue2':'Revenue'},inplace=True)"
   ]
  },
  {
   "cell_type": "markdown",
   "metadata": {},
   "source": [
    "## Create a new feature - Semester\n",
    "Spring Semester: Jan, Feb, Mar, Apr\n",
    "\n",
    "Summer Semester: May, Jun, July\n",
    "\n",
    "Fall Semester: Aug, Sep, Oct, Nov\n",
    "\n",
    "Winter Semester: Dec\n",
    "\n",
    "Method 1: use np.select(conditionlist, choicelist, default) to replace for loop."
   ]
  },
  {
   "cell_type": "code",
   "execution_count": 31,
   "metadata": {},
   "outputs": [],
   "source": [
    "# isin \n",
    "conditionlist = [df.Month.isin(['Jan','Feb','Mar','Apr']),\n",
    "                 df.Month.isin(['May','Jun','July']),\n",
    "                 df.Month == 'Dec']\n",
    "choicelist = ['Spring','Summer','Winter']\n",
    "df['Semester1'] = np.select(conditionlist, choicelist, default='Fall')"
   ]
  },
  {
   "cell_type": "markdown",
   "metadata": {},
   "source": [
    "Method 2: Use for loop "
   ]
  },
  {
   "cell_type": "code",
   "execution_count": 32,
   "metadata": {},
   "outputs": [],
   "source": [
    "def set_semester(df):\n",
    "    if df['Month'] in ['Jan','Feb','Mar','Apr']:\n",
    "        return 'Spring'\n",
    "    elif df['Month'] in ['May','Jun','July']:\n",
    "        return 'Summer'\n",
    "    elif df['Month'] == 'Dec':\n",
    "        return 'Winter'\n",
    "    else:\n",
    "        return 'Fall'\n",
    "df['Semester2'] = df.apply(set_semester, axis=1)"
   ]
  },
  {
   "cell_type": "code",
   "execution_count": 33,
   "metadata": {},
   "outputs": [
    {
     "data": {
      "text/html": [
       "<div>\n",
       "<style scoped>\n",
       "    .dataframe tbody tr th:only-of-type {\n",
       "        vertical-align: middle;\n",
       "    }\n",
       "\n",
       "    .dataframe tbody tr th {\n",
       "        vertical-align: top;\n",
       "    }\n",
       "\n",
       "    .dataframe thead th {\n",
       "        text-align: right;\n",
       "    }\n",
       "</style>\n",
       "<table border=\"1\" class=\"dataframe\">\n",
       "  <thead>\n",
       "    <tr style=\"text-align: right;\">\n",
       "      <th></th>\n",
       "      <th>Unnamed: 0</th>\n",
       "      <th>Checks2</th>\n",
       "      <th>Covers2</th>\n",
       "      <th>Revenue</th>\n",
       "      <th>Profit Center</th>\n",
       "      <th>Day_Open</th>\n",
       "      <th>Month</th>\n",
       "      <th>Year</th>\n",
       "      <th>CustomerCounts</th>\n",
       "      <th>Semester1</th>\n",
       "      <th>Semester2</th>\n",
       "    </tr>\n",
       "  </thead>\n",
       "  <tbody>\n",
       "    <tr>\n",
       "      <th>0</th>\n",
       "      <td>0</td>\n",
       "      <td>2085</td>\n",
       "      <td>0</td>\n",
       "      <td>7455.62</td>\n",
       "      <td>Profit Center Annenberg Cart(305)</td>\n",
       "      <td>11</td>\n",
       "      <td>Jan</td>\n",
       "      <td>2016</td>\n",
       "      <td>2085</td>\n",
       "      <td>Spring</td>\n",
       "      <td>Spring</td>\n",
       "    </tr>\n",
       "    <tr>\n",
       "      <th>1</th>\n",
       "      <td>1</td>\n",
       "      <td>14554</td>\n",
       "      <td>0</td>\n",
       "      <td>59371.08</td>\n",
       "      <td>Profit Center CC CBTL(281)</td>\n",
       "      <td>27</td>\n",
       "      <td>Jan</td>\n",
       "      <td>2016</td>\n",
       "      <td>14554</td>\n",
       "      <td>Spring</td>\n",
       "      <td>Spring</td>\n",
       "    </tr>\n",
       "    <tr>\n",
       "      <th>2</th>\n",
       "      <td>2</td>\n",
       "      <td>11625</td>\n",
       "      <td>0</td>\n",
       "      <td>52161.07</td>\n",
       "      <td>Profit Center Coffee Bean &amp; Tea Leaf(275)</td>\n",
       "      <td>16</td>\n",
       "      <td>Jan</td>\n",
       "      <td>2016</td>\n",
       "      <td>11625</td>\n",
       "      <td>Spring</td>\n",
       "      <td>Spring</td>\n",
       "    </tr>\n",
       "    <tr>\n",
       "      <th>3</th>\n",
       "      <td>3</td>\n",
       "      <td>8969</td>\n",
       "      <td>0</td>\n",
       "      <td>75420.01</td>\n",
       "      <td>Profit Center CPK(286)</td>\n",
       "      <td>22</td>\n",
       "      <td>Jan</td>\n",
       "      <td>2016</td>\n",
       "      <td>8969</td>\n",
       "      <td>Spring</td>\n",
       "      <td>Spring</td>\n",
       "    </tr>\n",
       "    <tr>\n",
       "      <th>4</th>\n",
       "      <td>4</td>\n",
       "      <td>415</td>\n",
       "      <td>1181</td>\n",
       "      <td>23116.88</td>\n",
       "      <td>Profit Center Edmondson Faculty Center(296)</td>\n",
       "      <td>19</td>\n",
       "      <td>Jan</td>\n",
       "      <td>2016</td>\n",
       "      <td>1181</td>\n",
       "      <td>Spring</td>\n",
       "      <td>Spring</td>\n",
       "    </tr>\n",
       "  </tbody>\n",
       "</table>\n",
       "</div>"
      ],
      "text/plain": [
       "   Unnamed: 0  Checks2  Covers2   Revenue  \\\n",
       "0           0     2085        0   7455.62   \n",
       "1           1    14554        0  59371.08   \n",
       "2           2    11625        0  52161.07   \n",
       "3           3     8969        0  75420.01   \n",
       "4           4      415     1181  23116.88   \n",
       "\n",
       "                                 Profit Center  Day_Open Month  Year  \\\n",
       "0            Profit Center Annenberg Cart(305)        11   Jan  2016   \n",
       "1                   Profit Center CC CBTL(281)        27   Jan  2016   \n",
       "2    Profit Center Coffee Bean & Tea Leaf(275)        16   Jan  2016   \n",
       "3                       Profit Center CPK(286)        22   Jan  2016   \n",
       "4  Profit Center Edmondson Faculty Center(296)        19   Jan  2016   \n",
       "\n",
       "   CustomerCounts Semester1 Semester2  \n",
       "0            2085    Spring    Spring  \n",
       "1           14554    Spring    Spring  \n",
       "2           11625    Spring    Spring  \n",
       "3            8969    Spring    Spring  \n",
       "4            1181    Spring    Spring  "
      ]
     },
     "execution_count": 33,
     "metadata": {},
     "output_type": "execute_result"
    }
   ],
   "source": [
    "df.head()"
   ]
  },
  {
   "cell_type": "markdown",
   "metadata": {},
   "source": [
    "## Drop columns"
   ]
  },
  {
   "cell_type": "code",
   "execution_count": 34,
   "metadata": {},
   "outputs": [
    {
     "data": {
      "text/plain": [
       "Index(['Unnamed: 0', 'Checks2', 'Covers2', 'Revenue', 'Profit Center',\n",
       "       'Day_Open', 'Month', 'Year', 'CustomerCounts', 'Semester1',\n",
       "       'Semester2'],\n",
       "      dtype='object')"
      ]
     },
     "execution_count": 34,
     "metadata": {},
     "output_type": "execute_result"
    }
   ],
   "source": [
    "df.columns"
   ]
  },
  {
   "cell_type": "code",
   "execution_count": 35,
   "metadata": {},
   "outputs": [
    {
     "data": {
      "text/html": [
       "<div>\n",
       "<style scoped>\n",
       "    .dataframe tbody tr th:only-of-type {\n",
       "        vertical-align: middle;\n",
       "    }\n",
       "\n",
       "    .dataframe tbody tr th {\n",
       "        vertical-align: top;\n",
       "    }\n",
       "\n",
       "    .dataframe thead th {\n",
       "        text-align: right;\n",
       "    }\n",
       "</style>\n",
       "<table border=\"1\" class=\"dataframe\">\n",
       "  <thead>\n",
       "    <tr style=\"text-align: right;\">\n",
       "      <th></th>\n",
       "      <th>Revenue</th>\n",
       "      <th>Profit Center</th>\n",
       "      <th>Day_Open</th>\n",
       "      <th>Month</th>\n",
       "      <th>Year</th>\n",
       "      <th>CustomerCounts</th>\n",
       "      <th>Semester</th>\n",
       "    </tr>\n",
       "  </thead>\n",
       "  <tbody>\n",
       "    <tr>\n",
       "      <th>0</th>\n",
       "      <td>7455.62</td>\n",
       "      <td>Profit Center Annenberg Cart(305)</td>\n",
       "      <td>11</td>\n",
       "      <td>Jan</td>\n",
       "      <td>2016</td>\n",
       "      <td>2085</td>\n",
       "      <td>Spring</td>\n",
       "    </tr>\n",
       "    <tr>\n",
       "      <th>1</th>\n",
       "      <td>59371.08</td>\n",
       "      <td>Profit Center CC CBTL(281)</td>\n",
       "      <td>27</td>\n",
       "      <td>Jan</td>\n",
       "      <td>2016</td>\n",
       "      <td>14554</td>\n",
       "      <td>Spring</td>\n",
       "    </tr>\n",
       "    <tr>\n",
       "      <th>2</th>\n",
       "      <td>52161.07</td>\n",
       "      <td>Profit Center Coffee Bean &amp; Tea Leaf(275)</td>\n",
       "      <td>16</td>\n",
       "      <td>Jan</td>\n",
       "      <td>2016</td>\n",
       "      <td>11625</td>\n",
       "      <td>Spring</td>\n",
       "    </tr>\n",
       "    <tr>\n",
       "      <th>3</th>\n",
       "      <td>75420.01</td>\n",
       "      <td>Profit Center CPK(286)</td>\n",
       "      <td>22</td>\n",
       "      <td>Jan</td>\n",
       "      <td>2016</td>\n",
       "      <td>8969</td>\n",
       "      <td>Spring</td>\n",
       "    </tr>\n",
       "    <tr>\n",
       "      <th>4</th>\n",
       "      <td>23116.88</td>\n",
       "      <td>Profit Center Edmondson Faculty Center(296)</td>\n",
       "      <td>19</td>\n",
       "      <td>Jan</td>\n",
       "      <td>2016</td>\n",
       "      <td>1181</td>\n",
       "      <td>Spring</td>\n",
       "    </tr>\n",
       "  </tbody>\n",
       "</table>\n",
       "</div>"
      ],
      "text/plain": [
       "    Revenue                                Profit Center  Day_Open Month  \\\n",
       "0   7455.62            Profit Center Annenberg Cart(305)        11   Jan   \n",
       "1  59371.08                   Profit Center CC CBTL(281)        27   Jan   \n",
       "2  52161.07    Profit Center Coffee Bean & Tea Leaf(275)        16   Jan   \n",
       "3  75420.01                       Profit Center CPK(286)        22   Jan   \n",
       "4  23116.88  Profit Center Edmondson Faculty Center(296)        19   Jan   \n",
       "\n",
       "   Year  CustomerCounts Semester  \n",
       "0  2016            2085   Spring  \n",
       "1  2016           14554   Spring  \n",
       "2  2016           11625   Spring  \n",
       "3  2016            8969   Spring  \n",
       "4  2016            1181   Spring  "
      ]
     },
     "execution_count": 35,
     "metadata": {},
     "output_type": "execute_result"
    }
   ],
   "source": [
    "cols_to_drop = ['Unnamed: 0', 'Checks2', 'Covers2', 'Semester1']\n",
    "df.drop(cols_to_drop, axis=1, inplace=True)\n",
    "# rename semester2 col\n",
    "df.rename(columns = {'Semester2':'Semester'},inplace=True)\n",
    "df.head()"
   ]
  },
  {
   "cell_type": "markdown",
   "metadata": {},
   "source": [
    "My partner created Region and Dollar_Person columns."
   ]
  },
  {
   "cell_type": "code",
   "execution_count": 36,
   "metadata": {},
   "outputs": [
    {
     "data": {
      "text/html": [
       "<div>\n",
       "<style scoped>\n",
       "    .dataframe tbody tr th:only-of-type {\n",
       "        vertical-align: middle;\n",
       "    }\n",
       "\n",
       "    .dataframe tbody tr th {\n",
       "        vertical-align: top;\n",
       "    }\n",
       "\n",
       "    .dataframe thead th {\n",
       "        text-align: right;\n",
       "    }\n",
       "</style>\n",
       "<table border=\"1\" class=\"dataframe\">\n",
       "  <thead>\n",
       "    <tr style=\"text-align: right;\">\n",
       "      <th></th>\n",
       "      <th>Index</th>\n",
       "      <th>Revenue</th>\n",
       "      <th>Profit Center</th>\n",
       "      <th>Day_Open</th>\n",
       "      <th>Month</th>\n",
       "      <th>Year</th>\n",
       "      <th>CustomerCounts</th>\n",
       "      <th>Semester</th>\n",
       "      <th>Region</th>\n",
       "      <th>Dollar_Person</th>\n",
       "    </tr>\n",
       "  </thead>\n",
       "  <tbody>\n",
       "    <tr>\n",
       "      <th>0</th>\n",
       "      <td>0</td>\n",
       "      <td>7455.62</td>\n",
       "      <td>Profit Center Annenberg Cart(305)</td>\n",
       "      <td>11</td>\n",
       "      <td>Jan</td>\n",
       "      <td>2016</td>\n",
       "      <td>2085</td>\n",
       "      <td>Spring</td>\n",
       "      <td>Retail West</td>\n",
       "      <td>3.64</td>\n",
       "    </tr>\n",
       "    <tr>\n",
       "      <th>1</th>\n",
       "      <td>1</td>\n",
       "      <td>59371.08</td>\n",
       "      <td>Profit Center CC CBTL(281)</td>\n",
       "      <td>27</td>\n",
       "      <td>Jan</td>\n",
       "      <td>2016</td>\n",
       "      <td>14554</td>\n",
       "      <td>Spring</td>\n",
       "      <td>RTCC</td>\n",
       "      <td>4.36</td>\n",
       "    </tr>\n",
       "    <tr>\n",
       "      <th>2</th>\n",
       "      <td>2</td>\n",
       "      <td>52161.07</td>\n",
       "      <td>Profit Center Coffee Bean &amp; Tea Leaf(275)</td>\n",
       "      <td>16</td>\n",
       "      <td>Jan</td>\n",
       "      <td>2016</td>\n",
       "      <td>11625</td>\n",
       "      <td>Spring</td>\n",
       "      <td>Retail West</td>\n",
       "      <td>4.80</td>\n",
       "    </tr>\n",
       "    <tr>\n",
       "      <th>3</th>\n",
       "      <td>3</td>\n",
       "      <td>75420.01</td>\n",
       "      <td>Profit Center CPK(286)</td>\n",
       "      <td>22</td>\n",
       "      <td>Jan</td>\n",
       "      <td>2016</td>\n",
       "      <td>8969</td>\n",
       "      <td>Spring</td>\n",
       "      <td>RTCC</td>\n",
       "      <td>8.74</td>\n",
       "    </tr>\n",
       "    <tr>\n",
       "      <th>4</th>\n",
       "      <td>4</td>\n",
       "      <td>23116.88</td>\n",
       "      <td>Profit Center Edmondson Faculty Center(296)</td>\n",
       "      <td>19</td>\n",
       "      <td>Jan</td>\n",
       "      <td>2016</td>\n",
       "      <td>1181</td>\n",
       "      <td>Spring</td>\n",
       "      <td>Restaurant</td>\n",
       "      <td>18.04</td>\n",
       "    </tr>\n",
       "  </tbody>\n",
       "</table>\n",
       "</div>"
      ],
      "text/plain": [
       "   Index   Revenue                                Profit Center  Day_Open  \\\n",
       "0      0   7455.62            Profit Center Annenberg Cart(305)        11   \n",
       "1      1  59371.08                   Profit Center CC CBTL(281)        27   \n",
       "2      2  52161.07    Profit Center Coffee Bean & Tea Leaf(275)        16   \n",
       "3      3  75420.01                       Profit Center CPK(286)        22   \n",
       "4      4  23116.88  Profit Center Edmondson Faculty Center(296)        19   \n",
       "\n",
       "  Month  Year  CustomerCounts Semester       Region  Dollar_Person  \n",
       "0   Jan  2016            2085   Spring  Retail West           3.64  \n",
       "1   Jan  2016           14554   Spring         RTCC           4.36  \n",
       "2   Jan  2016           11625   Spring  Retail West           4.80  \n",
       "3   Jan  2016            8969   Spring         RTCC           8.74  \n",
       "4   Jan  2016            1181   Spring   Restaurant          18.04  "
      ]
     },
     "execution_count": 36,
     "metadata": {},
     "output_type": "execute_result"
    }
   ],
   "source": [
    "df2 = pd.read_csv('../MDAC2/data_Zikun.csv')\n",
    "df2.head()"
   ]
  },
  {
   "cell_type": "code",
   "execution_count": 37,
   "metadata": {},
   "outputs": [],
   "source": [
    "df2.drop('Index',axis=1, inplace=True)"
   ]
  },
  {
   "cell_type": "markdown",
   "metadata": {},
   "source": [
    "## Missing Value"
   ]
  },
  {
   "cell_type": "code",
   "execution_count": 38,
   "metadata": {},
   "outputs": [
    {
     "data": {
      "text/plain": [
       "Revenue            0\n",
       "Profit Center      0\n",
       "Day_Open           0\n",
       "Month              0\n",
       "Year               0\n",
       "CustomerCounts     0\n",
       "Semester           0\n",
       "Region            35\n",
       "Dollar_Person      0\n",
       "dtype: int64"
      ]
     },
     "execution_count": 38,
     "metadata": {},
     "output_type": "execute_result"
    }
   ],
   "source": [
    "df2.isnull().sum()"
   ]
  },
  {
   "cell_type": "code",
   "execution_count": 39,
   "metadata": {},
   "outputs": [],
   "source": [
    "df2.fillna(value = 'Others', inplace=True)"
   ]
  },
  {
   "cell_type": "code",
   "execution_count": 40,
   "metadata": {},
   "outputs": [
    {
     "data": {
      "text/plain": [
       "0"
      ]
     },
     "execution_count": 40,
     "metadata": {},
     "output_type": "execute_result"
    }
   ],
   "source": [
    "df2.Region.isnull().sum()"
   ]
  },
  {
   "cell_type": "markdown",
   "metadata": {},
   "source": [
    "## Analysis of Region"
   ]
  },
  {
   "cell_type": "code",
   "execution_count": 41,
   "metadata": {},
   "outputs": [
    {
     "data": {
      "text/plain": [
       "<matplotlib.axes._subplots.AxesSubplot at 0x10a2ed7b8>"
      ]
     },
     "execution_count": 41,
     "metadata": {},
     "output_type": "execute_result"
    },
    {
     "data": {
      "image/png": "[encoded data removed]",
      "text/plain": [
       "<matplotlib.figure.Figure at 0x10a2f4d68>"
      ]
     },
     "metadata": {},
     "output_type": "display_data"
    }
   ],
   "source": [
    "df2.Region.value_counts().plot(kind='bar')"
   ]
  },
  {
   "cell_type": "code",
   "execution_count": 42,
   "metadata": {},
   "outputs": [
    {
     "data": {
      "text/plain": [
       "<matplotlib.axes._subplots.AxesSubplot at 0x10b3c8518>"
      ]
     },
     "execution_count": 42,
     "metadata": {},
     "output_type": "execute_result"
    },
    {
     "data": {
      "image/png": "[encoded data removed]",
      "text/plain": [
       "<matplotlib.figure.Figure at 0x10b2b3c88>"
      ]
     },
     "metadata": {},
     "output_type": "display_data"
    }
   ],
   "source": [
    "(df2.Region.value_counts(normalize = True)*100).plot(kind='bar')"
   ]
  },
  {
   "cell_type": "code",
   "execution_count": 43,
   "metadata": {},
   "outputs": [
    {
     "data": {
      "text/plain": [
       "79704.190625869262"
      ]
     },
     "execution_count": 43,
     "metadata": {},
     "output_type": "execute_result"
    }
   ],
   "source": [
    "df2.Revenue.mean()"
   ]
  },
  {
   "cell_type": "code",
   "execution_count": 44,
   "metadata": {},
   "outputs": [
    {
     "data": {
      "text/plain": [
       "<matplotlib.axes._subplots.AxesSubplot at 0x10b2c76d8>"
      ]
     },
     "execution_count": 44,
     "metadata": {},
     "output_type": "execute_result"
    },
    {
     "data": {
      "image/png": "[encoded data removed]",
      "text/plain": [
       "<matplotlib.figure.Figure at 0x10b3ee710>"
      ]
     },
     "metadata": {},
     "output_type": "display_data"
    }
   ],
   "source": [
    "df2.groupby('Region').Revenue.mean().plot(kind='bar')"
   ]
  },
  {
   "cell_type": "code",
   "execution_count": 45,
   "metadata": {},
   "outputs": [
    {
     "data": {
      "text/html": [
       "<div>\n",
       "<style scoped>\n",
       "    .dataframe tbody tr th:only-of-type {\n",
       "        vertical-align: middle;\n",
       "    }\n",
       "\n",
       "    .dataframe tbody tr th {\n",
       "        vertical-align: top;\n",
       "    }\n",
       "\n",
       "    .dataframe thead th {\n",
       "        text-align: right;\n",
       "    }\n",
       "</style>\n",
       "<table border=\"1\" class=\"dataframe\">\n",
       "  <thead>\n",
       "    <tr style=\"text-align: right;\">\n",
       "      <th></th>\n",
       "      <th>count</th>\n",
       "      <th>min</th>\n",
       "      <th>max</th>\n",
       "      <th>mean</th>\n",
       "    </tr>\n",
       "    <tr>\n",
       "      <th>Region</th>\n",
       "      <th></th>\n",
       "      <th></th>\n",
       "      <th></th>\n",
       "      <th></th>\n",
       "    </tr>\n",
       "  </thead>\n",
       "  <tbody>\n",
       "    <tr>\n",
       "      <th>HSC</th>\n",
       "      <td>127</td>\n",
       "      <td>0.03</td>\n",
       "      <td>76378.43</td>\n",
       "      <td>43410.264961</td>\n",
       "    </tr>\n",
       "    <tr>\n",
       "      <th>Others</th>\n",
       "      <td>35</td>\n",
       "      <td>0.00</td>\n",
       "      <td>111624.10</td>\n",
       "      <td>45799.052857</td>\n",
       "    </tr>\n",
       "    <tr>\n",
       "      <th>RTCC</th>\n",
       "      <td>168</td>\n",
       "      <td>23730.04</td>\n",
       "      <td>617844.97</td>\n",
       "      <td>138925.933095</td>\n",
       "    </tr>\n",
       "    <tr>\n",
       "      <th>Restaurant</th>\n",
       "      <td>139</td>\n",
       "      <td>110.08</td>\n",
       "      <td>255682.92</td>\n",
       "      <td>77159.340360</td>\n",
       "    </tr>\n",
       "    <tr>\n",
       "      <th>Retail East</th>\n",
       "      <td>132</td>\n",
       "      <td>0.01</td>\n",
       "      <td>312495.77</td>\n",
       "      <td>76624.431364</td>\n",
       "    </tr>\n",
       "    <tr>\n",
       "      <th>Retail West</th>\n",
       "      <td>118</td>\n",
       "      <td>443.95</td>\n",
       "      <td>136281.05</td>\n",
       "      <td>50950.106356</td>\n",
       "    </tr>\n",
       "  </tbody>\n",
       "</table>\n",
       "</div>"
      ],
      "text/plain": [
       "             count       min        max           mean\n",
       "Region                                                \n",
       "HSC            127      0.03   76378.43   43410.264961\n",
       "Others          35      0.00  111624.10   45799.052857\n",
       "RTCC           168  23730.04  617844.97  138925.933095\n",
       "Restaurant     139    110.08  255682.92   77159.340360\n",
       "Retail East    132      0.01  312495.77   76624.431364\n",
       "Retail West    118    443.95  136281.05   50950.106356"
      ]
     },
     "execution_count": 45,
     "metadata": {},
     "output_type": "execute_result"
    }
   ],
   "source": [
    "df2.groupby('Region').Revenue.agg(['count','min','max','mean'])"
   ]
  },
  {
   "cell_type": "code",
   "execution_count": 46,
   "metadata": {},
   "outputs": [
    {
     "data": {
      "text/plain": [
       "<matplotlib.axes._subplots.AxesSubplot at 0x1041b56a0>"
      ]
     },
     "execution_count": 46,
     "metadata": {},
     "output_type": "execute_result"
    },
    {
     "data": {
      "image/png": "[encoded data removed]",
      "text/plain": [
       "<matplotlib.figure.Figure at 0x10a5d7a20>"
      ]
     },
     "metadata": {},
     "output_type": "display_data"
    }
   ],
   "source": [
    "df2.groupby('Region')['Revenue','CustomerCounts'].mean().plot(kind='bar')"
   ]
  },
  {
   "cell_type": "code",
   "execution_count": 47,
   "metadata": {},
   "outputs": [
    {
     "data": {
      "text/html": [
       "<div>\n",
       "<style scoped>\n",
       "    .dataframe tbody tr th:only-of-type {\n",
       "        vertical-align: middle;\n",
       "    }\n",
       "\n",
       "    .dataframe tbody tr th {\n",
       "        vertical-align: top;\n",
       "    }\n",
       "\n",
       "    .dataframe thead th {\n",
       "        text-align: right;\n",
       "    }\n",
       "</style>\n",
       "<table border=\"1\" class=\"dataframe\">\n",
       "  <thead>\n",
       "    <tr style=\"text-align: right;\">\n",
       "      <th></th>\n",
       "      <th></th>\n",
       "      <th>sum</th>\n",
       "      <th>mean</th>\n",
       "    </tr>\n",
       "    <tr>\n",
       "      <th>Region</th>\n",
       "      <th>Year</th>\n",
       "      <th></th>\n",
       "      <th></th>\n",
       "    </tr>\n",
       "  </thead>\n",
       "  <tbody>\n",
       "    <tr>\n",
       "      <th rowspan=\"2\" valign=\"top\">HSC</th>\n",
       "      <th>2016</th>\n",
       "      <td>2726763.85</td>\n",
       "      <td>45446.064167</td>\n",
       "    </tr>\n",
       "    <tr>\n",
       "      <th>2017</th>\n",
       "      <td>2786339.80</td>\n",
       "      <td>41587.161194</td>\n",
       "    </tr>\n",
       "    <tr>\n",
       "      <th rowspan=\"2\" valign=\"top\">Others</th>\n",
       "      <th>2016</th>\n",
       "      <td>549298.45</td>\n",
       "      <td>39235.603571</td>\n",
       "    </tr>\n",
       "    <tr>\n",
       "      <th>2017</th>\n",
       "      <td>1053668.40</td>\n",
       "      <td>50174.685714</td>\n",
       "    </tr>\n",
       "    <tr>\n",
       "      <th rowspan=\"2\" valign=\"top\">RTCC</th>\n",
       "      <th>2016</th>\n",
       "      <td>12052856.78</td>\n",
       "      <td>143486.390238</td>\n",
       "    </tr>\n",
       "    <tr>\n",
       "      <th>2017</th>\n",
       "      <td>11286699.98</td>\n",
       "      <td>134365.475952</td>\n",
       "    </tr>\n",
       "    <tr>\n",
       "      <th rowspan=\"2\" valign=\"top\">Restaurant</th>\n",
       "      <th>2016</th>\n",
       "      <td>5037083.77</td>\n",
       "      <td>75180.354776</td>\n",
       "    </tr>\n",
       "    <tr>\n",
       "      <th>2017</th>\n",
       "      <td>5688064.54</td>\n",
       "      <td>79000.896389</td>\n",
       "    </tr>\n",
       "    <tr>\n",
       "      <th rowspan=\"2\" valign=\"top\">Retail East</th>\n",
       "      <th>2016</th>\n",
       "      <td>4376251.54</td>\n",
       "      <td>75452.612759</td>\n",
       "    </tr>\n",
       "    <tr>\n",
       "      <th>2017</th>\n",
       "      <td>5738173.40</td>\n",
       "      <td>77542.883784</td>\n",
       "    </tr>\n",
       "    <tr>\n",
       "      <th rowspan=\"2\" valign=\"top\">Retail West</th>\n",
       "      <th>2016</th>\n",
       "      <td>2920344.82</td>\n",
       "      <td>50350.772759</td>\n",
       "    </tr>\n",
       "    <tr>\n",
       "      <th>2017</th>\n",
       "      <td>3091767.73</td>\n",
       "      <td>51529.462167</td>\n",
       "    </tr>\n",
       "  </tbody>\n",
       "</table>\n",
       "</div>"
      ],
      "text/plain": [
       "                          sum           mean\n",
       "Region      Year                            \n",
       "HSC         2016   2726763.85   45446.064167\n",
       "            2017   2786339.80   41587.161194\n",
       "Others      2016    549298.45   39235.603571\n",
       "            2017   1053668.40   50174.685714\n",
       "RTCC        2016  12052856.78  143486.390238\n",
       "            2017  11286699.98  134365.475952\n",
       "Restaurant  2016   5037083.77   75180.354776\n",
       "            2017   5688064.54   79000.896389\n",
       "Retail East 2016   4376251.54   75452.612759\n",
       "            2017   5738173.40   77542.883784\n",
       "Retail West 2016   2920344.82   50350.772759\n",
       "            2017   3091767.73   51529.462167"
      ]
     },
     "execution_count": 47,
     "metadata": {},
     "output_type": "execute_result"
    }
   ],
   "source": [
    "df3 = df2.groupby(['Region','Year']).Revenue.agg(['sum','mean'])\n",
    "df3"
   ]
  },
  {
   "cell_type": "code",
   "execution_count": 48,
   "metadata": {},
   "outputs": [
    {
     "data": {
      "text/plain": [
       "MultiIndex(levels=[['HSC', 'Others', 'RTCC', 'Restaurant', 'Retail East', 'Retail West'], [2016, 2017]],\n",
       "           labels=[[0, 0, 1, 1, 2, 2, 3, 3, 4, 4, 5, 5], [0, 1, 0, 1, 0, 1, 0, 1, 0, 1, 0, 1]],\n",
       "           names=['Region', 'Year'])"
      ]
     },
     "execution_count": 48,
     "metadata": {},
     "output_type": "execute_result"
    }
   ],
   "source": [
    "df3.index"
   ]
  },
  {
   "cell_type": "code",
   "execution_count": 49,
   "metadata": {},
   "outputs": [
    {
     "data": {
      "text/html": [
       "<div>\n",
       "<style scoped>\n",
       "    .dataframe tbody tr th:only-of-type {\n",
       "        vertical-align: middle;\n",
       "    }\n",
       "\n",
       "    .dataframe tbody tr th {\n",
       "        vertical-align: top;\n",
       "    }\n",
       "\n",
       "    .dataframe thead th {\n",
       "        text-align: right;\n",
       "    }\n",
       "</style>\n",
       "<table border=\"1\" class=\"dataframe\">\n",
       "  <thead>\n",
       "    <tr style=\"text-align: right;\">\n",
       "      <th></th>\n",
       "      <th>Region</th>\n",
       "      <th>Year</th>\n",
       "      <th>sum</th>\n",
       "      <th>mean</th>\n",
       "    </tr>\n",
       "  </thead>\n",
       "  <tbody>\n",
       "    <tr>\n",
       "      <th>0</th>\n",
       "      <td>HSC</td>\n",
       "      <td>2016</td>\n",
       "      <td>2726763.85</td>\n",
       "      <td>45446.064167</td>\n",
       "    </tr>\n",
       "    <tr>\n",
       "      <th>1</th>\n",
       "      <td>HSC</td>\n",
       "      <td>2017</td>\n",
       "      <td>2786339.80</td>\n",
       "      <td>41587.161194</td>\n",
       "    </tr>\n",
       "    <tr>\n",
       "      <th>2</th>\n",
       "      <td>Others</td>\n",
       "      <td>2016</td>\n",
       "      <td>549298.45</td>\n",
       "      <td>39235.603571</td>\n",
       "    </tr>\n",
       "    <tr>\n",
       "      <th>3</th>\n",
       "      <td>Others</td>\n",
       "      <td>2017</td>\n",
       "      <td>1053668.40</td>\n",
       "      <td>50174.685714</td>\n",
       "    </tr>\n",
       "    <tr>\n",
       "      <th>4</th>\n",
       "      <td>RTCC</td>\n",
       "      <td>2016</td>\n",
       "      <td>12052856.78</td>\n",
       "      <td>143486.390238</td>\n",
       "    </tr>\n",
       "    <tr>\n",
       "      <th>5</th>\n",
       "      <td>RTCC</td>\n",
       "      <td>2017</td>\n",
       "      <td>11286699.98</td>\n",
       "      <td>134365.475952</td>\n",
       "    </tr>\n",
       "    <tr>\n",
       "      <th>6</th>\n",
       "      <td>Restaurant</td>\n",
       "      <td>2016</td>\n",
       "      <td>5037083.77</td>\n",
       "      <td>75180.354776</td>\n",
       "    </tr>\n",
       "    <tr>\n",
       "      <th>7</th>\n",
       "      <td>Restaurant</td>\n",
       "      <td>2017</td>\n",
       "      <td>5688064.54</td>\n",
       "      <td>79000.896389</td>\n",
       "    </tr>\n",
       "    <tr>\n",
       "      <th>8</th>\n",
       "      <td>Retail East</td>\n",
       "      <td>2016</td>\n",
       "      <td>4376251.54</td>\n",
       "      <td>75452.612759</td>\n",
       "    </tr>\n",
       "    <tr>\n",
       "      <th>9</th>\n",
       "      <td>Retail East</td>\n",
       "      <td>2017</td>\n",
       "      <td>5738173.40</td>\n",
       "      <td>77542.883784</td>\n",
       "    </tr>\n",
       "    <tr>\n",
       "      <th>10</th>\n",
       "      <td>Retail West</td>\n",
       "      <td>2016</td>\n",
       "      <td>2920344.82</td>\n",
       "      <td>50350.772759</td>\n",
       "    </tr>\n",
       "    <tr>\n",
       "      <th>11</th>\n",
       "      <td>Retail West</td>\n",
       "      <td>2017</td>\n",
       "      <td>3091767.73</td>\n",
       "      <td>51529.462167</td>\n",
       "    </tr>\n",
       "  </tbody>\n",
       "</table>\n",
       "</div>"
      ],
      "text/plain": [
       "         Region  Year          sum           mean\n",
       "0           HSC  2016   2726763.85   45446.064167\n",
       "1           HSC  2017   2786339.80   41587.161194\n",
       "2        Others  2016    549298.45   39235.603571\n",
       "3        Others  2017   1053668.40   50174.685714\n",
       "4          RTCC  2016  12052856.78  143486.390238\n",
       "5          RTCC  2017  11286699.98  134365.475952\n",
       "6    Restaurant  2016   5037083.77   75180.354776\n",
       "7    Restaurant  2017   5688064.54   79000.896389\n",
       "8   Retail East  2016   4376251.54   75452.612759\n",
       "9   Retail East  2017   5738173.40   77542.883784\n",
       "10  Retail West  2016   2920344.82   50350.772759\n",
       "11  Retail West  2017   3091767.73   51529.462167"
      ]
     },
     "execution_count": 49,
     "metadata": {},
     "output_type": "execute_result"
    }
   ],
   "source": [
    "df3.reset_index(inplace=True)\n",
    "df3"
   ]
  },
  {
   "cell_type": "code",
   "execution_count": 51,
   "metadata": {},
   "outputs": [
    {
     "data": {
      "text/html": [
       "<div>\n",
       "<style scoped>\n",
       "    .dataframe tbody tr th:only-of-type {\n",
       "        vertical-align: middle;\n",
       "    }\n",
       "\n",
       "    .dataframe tbody tr th {\n",
       "        vertical-align: top;\n",
       "    }\n",
       "\n",
       "    .dataframe thead th {\n",
       "        text-align: right;\n",
       "    }\n",
       "</style>\n",
       "<table border=\"1\" class=\"dataframe\">\n",
       "  <thead>\n",
       "    <tr style=\"text-align: right;\">\n",
       "      <th></th>\n",
       "      <th>Region</th>\n",
       "      <th>Year</th>\n",
       "      <th>sum</th>\n",
       "      <th>mean</th>\n",
       "    </tr>\n",
       "  </thead>\n",
       "  <tbody>\n",
       "    <tr>\n",
       "      <th>0</th>\n",
       "      <td>HSC</td>\n",
       "      <td>2016</td>\n",
       "      <td>2726763.85</td>\n",
       "      <td>45446.064167</td>\n",
       "    </tr>\n",
       "    <tr>\n",
       "      <th>2</th>\n",
       "      <td>Others</td>\n",
       "      <td>2016</td>\n",
       "      <td>549298.45</td>\n",
       "      <td>39235.603571</td>\n",
       "    </tr>\n",
       "    <tr>\n",
       "      <th>4</th>\n",
       "      <td>RTCC</td>\n",
       "      <td>2016</td>\n",
       "      <td>12052856.78</td>\n",
       "      <td>143486.390238</td>\n",
       "    </tr>\n",
       "    <tr>\n",
       "      <th>6</th>\n",
       "      <td>Restaurant</td>\n",
       "      <td>2016</td>\n",
       "      <td>5037083.77</td>\n",
       "      <td>75180.354776</td>\n",
       "    </tr>\n",
       "    <tr>\n",
       "      <th>8</th>\n",
       "      <td>Retail East</td>\n",
       "      <td>2016</td>\n",
       "      <td>4376251.54</td>\n",
       "      <td>75452.612759</td>\n",
       "    </tr>\n",
       "    <tr>\n",
       "      <th>10</th>\n",
       "      <td>Retail West</td>\n",
       "      <td>2016</td>\n",
       "      <td>2920344.82</td>\n",
       "      <td>50350.772759</td>\n",
       "    </tr>\n",
       "  </tbody>\n",
       "</table>\n",
       "</div>"
      ],
      "text/plain": [
       "         Region  Year          sum           mean\n",
       "0           HSC  2016   2726763.85   45446.064167\n",
       "2        Others  2016    549298.45   39235.603571\n",
       "4          RTCC  2016  12052856.78  143486.390238\n",
       "6    Restaurant  2016   5037083.77   75180.354776\n",
       "8   Retail East  2016   4376251.54   75452.612759\n",
       "10  Retail West  2016   2920344.82   50350.772759"
      ]
     },
     "execution_count": 51,
     "metadata": {},
     "output_type": "execute_result"
    }
   ],
   "source": [
    "df3.loc[df3.Year == 2016,:]"
   ]
  },
  {
   "cell_type": "code",
   "execution_count": 52,
   "metadata": {},
   "outputs": [
    {
     "data": {
      "text/html": [
       "<div>\n",
       "<style scoped>\n",
       "    .dataframe tbody tr th:only-of-type {\n",
       "        vertical-align: middle;\n",
       "    }\n",
       "\n",
       "    .dataframe tbody tr th {\n",
       "        vertical-align: top;\n",
       "    }\n",
       "\n",
       "    .dataframe thead th {\n",
       "        text-align: right;\n",
       "    }\n",
       "</style>\n",
       "<table border=\"1\" class=\"dataframe\">\n",
       "  <thead>\n",
       "    <tr style=\"text-align: right;\">\n",
       "      <th></th>\n",
       "      <th>Revenue</th>\n",
       "      <th>Profit Center</th>\n",
       "      <th>Day_Open</th>\n",
       "      <th>Month</th>\n",
       "      <th>Year</th>\n",
       "      <th>CustomerCounts</th>\n",
       "      <th>Semester</th>\n",
       "      <th>Region</th>\n",
       "      <th>Dollar_Person</th>\n",
       "    </tr>\n",
       "  </thead>\n",
       "  <tbody>\n",
       "    <tr>\n",
       "      <th>0</th>\n",
       "      <td>7455.62</td>\n",
       "      <td>Profit Center Annenberg Cart(305)</td>\n",
       "      <td>11</td>\n",
       "      <td>Jan</td>\n",
       "      <td>2016</td>\n",
       "      <td>2085</td>\n",
       "      <td>Spring</td>\n",
       "      <td>Retail West</td>\n",
       "      <td>3.64</td>\n",
       "    </tr>\n",
       "    <tr>\n",
       "      <th>1</th>\n",
       "      <td>59371.08</td>\n",
       "      <td>Profit Center CC CBTL(281)</td>\n",
       "      <td>27</td>\n",
       "      <td>Jan</td>\n",
       "      <td>2016</td>\n",
       "      <td>14554</td>\n",
       "      <td>Spring</td>\n",
       "      <td>RTCC</td>\n",
       "      <td>4.36</td>\n",
       "    </tr>\n",
       "    <tr>\n",
       "      <th>2</th>\n",
       "      <td>52161.07</td>\n",
       "      <td>Profit Center Coffee Bean &amp; Tea Leaf(275)</td>\n",
       "      <td>16</td>\n",
       "      <td>Jan</td>\n",
       "      <td>2016</td>\n",
       "      <td>11625</td>\n",
       "      <td>Spring</td>\n",
       "      <td>Retail West</td>\n",
       "      <td>4.80</td>\n",
       "    </tr>\n",
       "    <tr>\n",
       "      <th>3</th>\n",
       "      <td>75420.01</td>\n",
       "      <td>Profit Center CPK(286)</td>\n",
       "      <td>22</td>\n",
       "      <td>Jan</td>\n",
       "      <td>2016</td>\n",
       "      <td>8969</td>\n",
       "      <td>Spring</td>\n",
       "      <td>RTCC</td>\n",
       "      <td>8.74</td>\n",
       "    </tr>\n",
       "    <tr>\n",
       "      <th>4</th>\n",
       "      <td>23116.88</td>\n",
       "      <td>Profit Center Edmondson Faculty Center(296)</td>\n",
       "      <td>19</td>\n",
       "      <td>Jan</td>\n",
       "      <td>2016</td>\n",
       "      <td>1181</td>\n",
       "      <td>Spring</td>\n",
       "      <td>Restaurant</td>\n",
       "      <td>18.04</td>\n",
       "    </tr>\n",
       "  </tbody>\n",
       "</table>\n",
       "</div>"
      ],
      "text/plain": [
       "    Revenue                                Profit Center  Day_Open Month  \\\n",
       "0   7455.62            Profit Center Annenberg Cart(305)        11   Jan   \n",
       "1  59371.08                   Profit Center CC CBTL(281)        27   Jan   \n",
       "2  52161.07    Profit Center Coffee Bean & Tea Leaf(275)        16   Jan   \n",
       "3  75420.01                       Profit Center CPK(286)        22   Jan   \n",
       "4  23116.88  Profit Center Edmondson Faculty Center(296)        19   Jan   \n",
       "\n",
       "   Year  CustomerCounts Semester       Region  Dollar_Person  \n",
       "0  2016            2085   Spring  Retail West           3.64  \n",
       "1  2016           14554   Spring         RTCC           4.36  \n",
       "2  2016           11625   Spring  Retail West           4.80  \n",
       "3  2016            8969   Spring         RTCC           8.74  \n",
       "4  2016            1181   Spring   Restaurant          18.04  "
      ]
     },
     "execution_count": 52,
     "metadata": {},
     "output_type": "execute_result"
    }
   ],
   "source": [
    "df = df2\n",
    "df.head()"
   ]
  },
  {
   "cell_type": "code",
   "execution_count": 53,
   "metadata": {},
   "outputs": [
    {
     "data": {
      "text/plain": [
       "Revenue           float64\n",
       "Profit Center      object\n",
       "Day_Open            int64\n",
       "Month              object\n",
       "Year                int64\n",
       "CustomerCounts      int64\n",
       "Semester           object\n",
       "Region             object\n",
       "Dollar_Person     float64\n",
       "dtype: object"
      ]
     },
     "execution_count": 53,
     "metadata": {},
     "output_type": "execute_result"
    }
   ],
   "source": [
    "df.dtypes"
   ]
  },
  {
   "cell_type": "markdown",
   "metadata": {},
   "source": [
    "## Change object to category"
   ]
  },
  {
   "cell_type": "code",
   "execution_count": 54,
   "metadata": {},
   "outputs": [
    {
     "data": {
      "text/plain": [
       "Index(['Profit Center', 'Month', 'Semester', 'Region'], dtype='object')"
      ]
     },
     "execution_count": 54,
     "metadata": {},
     "output_type": "execute_result"
    }
   ],
   "source": [
    "tran_cols = df.select_dtypes(include = 'object').columns\n",
    "tran_cols"
   ]
  },
  {
   "cell_type": "code",
   "execution_count": 55,
   "metadata": {},
   "outputs": [],
   "source": [
    "df[tran_cols] = df[tran_cols].apply(lambda x: x.astype('category'))\n",
    "df['Year'] = df['Year'].astype('category')"
   ]
  },
  {
   "cell_type": "code",
   "execution_count": 58,
   "metadata": {},
   "outputs": [
    {
     "data": {
      "text/plain": [
       "Revenue            float64\n",
       "Profit Center     category\n",
       "Day_Open             int64\n",
       "Month             category\n",
       "Year              category\n",
       "CustomerCounts       int64\n",
       "Semester          category\n",
       "Region            category\n",
       "Dollar_Person      float64\n",
       "dtype: object"
      ]
     },
     "execution_count": 58,
     "metadata": {},
     "output_type": "execute_result"
    }
   ],
   "source": [
    "df.dtypes"
   ]
  },
  {
   "cell_type": "code",
   "execution_count": 60,
   "metadata": {},
   "outputs": [
    {
     "data": {
      "text/html": [
       "<div>\n",
       "<style scoped>\n",
       "    .dataframe tbody tr th:only-of-type {\n",
       "        vertical-align: middle;\n",
       "    }\n",
       "\n",
       "    .dataframe tbody tr th {\n",
       "        vertical-align: top;\n",
       "    }\n",
       "\n",
       "    .dataframe thead th {\n",
       "        text-align: right;\n",
       "    }\n",
       "</style>\n",
       "<table border=\"1\" class=\"dataframe\">\n",
       "  <thead>\n",
       "    <tr style=\"text-align: right;\">\n",
       "      <th></th>\n",
       "      <th>Revenue</th>\n",
       "      <th>Profit Center</th>\n",
       "      <th>Day_Open</th>\n",
       "      <th>Month</th>\n",
       "      <th>Year</th>\n",
       "      <th>CustomerCounts</th>\n",
       "      <th>Semester</th>\n",
       "      <th>Region</th>\n",
       "      <th>Dollar_Person</th>\n",
       "    </tr>\n",
       "  </thead>\n",
       "  <tbody>\n",
       "    <tr>\n",
       "      <th>0</th>\n",
       "      <td>7455.62</td>\n",
       "      <td>Profit Center Annenberg Cart(305)</td>\n",
       "      <td>11</td>\n",
       "      <td>Jan</td>\n",
       "      <td>2016</td>\n",
       "      <td>2085</td>\n",
       "      <td>Spring</td>\n",
       "      <td>Retail West</td>\n",
       "      <td>3.64</td>\n",
       "    </tr>\n",
       "    <tr>\n",
       "      <th>1</th>\n",
       "      <td>59371.08</td>\n",
       "      <td>Profit Center CC CBTL(281)</td>\n",
       "      <td>27</td>\n",
       "      <td>Jan</td>\n",
       "      <td>2016</td>\n",
       "      <td>14554</td>\n",
       "      <td>Spring</td>\n",
       "      <td>RTCC</td>\n",
       "      <td>4.36</td>\n",
       "    </tr>\n",
       "    <tr>\n",
       "      <th>2</th>\n",
       "      <td>52161.07</td>\n",
       "      <td>Profit Center Coffee Bean &amp; Tea Leaf(275)</td>\n",
       "      <td>16</td>\n",
       "      <td>Jan</td>\n",
       "      <td>2016</td>\n",
       "      <td>11625</td>\n",
       "      <td>Spring</td>\n",
       "      <td>Retail West</td>\n",
       "      <td>4.80</td>\n",
       "    </tr>\n",
       "    <tr>\n",
       "      <th>3</th>\n",
       "      <td>75420.01</td>\n",
       "      <td>Profit Center CPK(286)</td>\n",
       "      <td>22</td>\n",
       "      <td>Jan</td>\n",
       "      <td>2016</td>\n",
       "      <td>8969</td>\n",
       "      <td>Spring</td>\n",
       "      <td>RTCC</td>\n",
       "      <td>8.74</td>\n",
       "    </tr>\n",
       "    <tr>\n",
       "      <th>4</th>\n",
       "      <td>23116.88</td>\n",
       "      <td>Profit Center Edmondson Faculty Center(296)</td>\n",
       "      <td>19</td>\n",
       "      <td>Jan</td>\n",
       "      <td>2016</td>\n",
       "      <td>1181</td>\n",
       "      <td>Spring</td>\n",
       "      <td>Restaurant</td>\n",
       "      <td>18.04</td>\n",
       "    </tr>\n",
       "  </tbody>\n",
       "</table>\n",
       "</div>"
      ],
      "text/plain": [
       "    Revenue                                Profit Center  Day_Open Month  \\\n",
       "0   7455.62            Profit Center Annenberg Cart(305)        11   Jan   \n",
       "1  59371.08                   Profit Center CC CBTL(281)        27   Jan   \n",
       "2  52161.07    Profit Center Coffee Bean & Tea Leaf(275)        16   Jan   \n",
       "3  75420.01                       Profit Center CPK(286)        22   Jan   \n",
       "4  23116.88  Profit Center Edmondson Faculty Center(296)        19   Jan   \n",
       "\n",
       "   Year  CustomerCounts Semester       Region  Dollar_Person  \n",
       "0  2016            2085   Spring  Retail West           3.64  \n",
       "1  2016           14554   Spring         RTCC           4.36  \n",
       "2  2016           11625   Spring  Retail West           4.80  \n",
       "3  2016            8969   Spring         RTCC           8.74  \n",
       "4  2016            1181   Spring   Restaurant          18.04  "
      ]
     },
     "execution_count": 60,
     "metadata": {},
     "output_type": "execute_result"
    }
   ],
   "source": [
    "df.head()"
   ]
  },
  {
   "cell_type": "code",
   "execution_count": 61,
   "metadata": {},
   "outputs": [],
   "source": [
    "df.to_csv('data.csv')"
   ]
  },
  {
   "cell_type": "code",
   "execution_count": null,
   "metadata": {},
   "outputs": [],
   "source": []
  }
 ],
 "metadata": {
  "kernelspec": {
   "display_name": "Python 3",
   "language": "python",
   "name": "python3"
  },
  "language_info": {
   "codemirror_mode": {
    "name": "ipython",
    "version": 3
   },
   "file_extension": ".py",
   "mimetype": "text/x-python",
   "name": "python",
   "nbconvert_exporter": "python",
   "pygments_lexer": "ipython3",
   "version": "3.6.3"
  }
 },
 "nbformat": 4,
 "nbformat_minor": 2
}
